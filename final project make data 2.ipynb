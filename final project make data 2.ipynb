{
 "cells": [
  {
   "cell_type": "code",
   "execution_count": 3,
   "metadata": {},
   "outputs": [],
   "source": [
    "import csv\n",
    "import cv2\n",
    "import numpy as np\n",
    "from matplotlib import pyplot as plt\n",
    "\n",
    "def resize(picture, n):\n",
    "    w, h = picture.shape               \n",
    "    if(w!=n or h!=n):\n",
    "        picture = cv2.resize(picture, dsize = (n, n), interpolation=cv2.INTER_LINEAR)\n",
    "    return picture\n",
    "\n",
    "def reduceNoise(picture, n, index):\n",
    "    img = cv2.medianBlur(picture,5)\n",
    "    th3 = cv2.adaptiveThreshold(img,255,cv2.ADAPTIVE_THRESH_GAUSSIAN_C,cv2.THRESH_BINARY,11,2)\n",
    "    pixels = list()\n",
    "    pixels.append(index)\n",
    "    for i in range(n):\n",
    "        for j in range(n):\n",
    "            pixels.append(th3[i][j])\n",
    "            \n",
    "    return pixels"
   ]
  },
  {
   "cell_type": "code",
   "execution_count": 4,
   "metadata": {},
   "outputs": [
    {
     "name": "stdout",
     "output_type": "stream",
     "text": [
      "373\n"
     ]
    }
   ],
   "source": [
    "#append mouth\n",
    "n = 373 #number of images\n",
    "index = 0\n",
    "size = 50 #modify image into n*n sized image\n",
    "mouth = list()\n",
    "\n",
    "for i in range(0,n):\n",
    "    im = cv2.imread(str('mouth/mouth (' + str(i) +').jpg'), 0)\n",
    "    res = resize(im, size)\n",
    "    pixels = reduceNoise(res, size, index)\n",
    "    mouth.append(pixels)\n",
    "\n",
    "print(len(mouth))"
   ]
  },
  {
   "cell_type": "code",
   "execution_count": 6,
   "metadata": {},
   "outputs": [
    {
     "name": "stdout",
     "output_type": "stream",
     "text": [
      "2506\n"
     ]
    }
   ],
   "source": [
    "#日\n",
    "n = 2506 #number of images\n",
    "index = 1\n",
    "size = 50 #modify image into n*n sized image\n",
    "sun = list()\n",
    "\n",
    "for i in range(0,n):\n",
    "    im = cv2.imread(str('sun/day (' + str(i) +').jpg'), 0)\n",
    "    res = resize(im, size)\n",
    "    pixels = reduceNoise(res, size, index)\n",
    "    sun.append(pixels)\n",
    "\n",
    "print(len(sun))"
   ]
  },
  {
   "cell_type": "code",
   "execution_count": 7,
   "metadata": {},
   "outputs": [
    {
     "name": "stdout",
     "output_type": "stream",
     "text": [
      "227\n"
     ]
    }
   ],
   "source": [
    "#曰\n",
    "n = 227 #number of images\n",
    "index = 2\n",
    "size = 50\n",
    "width = list()\n",
    "\n",
    "for i in range(0,n):\n",
    "    im = cv2.imread(str('width/width (' + str(i) +').jpg'), 0)\n",
    "    res = resize(im, size)\n",
    "    pixels = reduceNoise(res, size, index)\n",
    "    width.append(pixels)\n",
    "\n",
    "print(len(width))"
   ]
  },
  {
   "cell_type": "code",
   "execution_count": 8,
   "metadata": {},
   "outputs": [
    {
     "name": "stdout",
     "output_type": "stream",
     "text": [
      "1254\n"
     ]
    }
   ],
   "source": [
    "#白\n",
    "n = 1254 #number of images\n",
    "index = 3\n",
    "size = 50\n",
    "white = list()\n",
    "\n",
    "for i in range(0,n):\n",
    "    im = cv2.imread(str('white/white (' + str(i) +').jpg'), 0)\n",
    "    res = resize(im, size)\n",
    "    pixels = reduceNoise(res, size, index)\n",
    "    white.append(pixels)\n",
    "\n",
    "print(len(white))"
   ]
  },
  {
   "cell_type": "code",
   "execution_count": 9,
   "metadata": {},
   "outputs": [
    {
     "name": "stdout",
     "output_type": "stream",
     "text": [
      "504\n"
     ]
    }
   ],
   "source": [
    "#hundred(百) 4\n",
    "n = 504 #number of images\n",
    "index = 4\n",
    "size = 50\n",
    "hundred = list()\n",
    "\n",
    "for i in range(0,n):\n",
    "    im = cv2.imread(str('hundred/hund (' + str(i) +').jpg'), 0)\n",
    "    res = resize(im, size)\n",
    "    pixels = reduceNoise(res, size, index)\n",
    "    hundred.append(pixels)\n",
    "\n",
    "print(len(hundred))"
   ]
  },
  {
   "cell_type": "code",
   "execution_count": 10,
   "metadata": {},
   "outputs": [
    {
     "name": "stdout",
     "output_type": "stream",
     "text": [
      "138\n"
     ]
    }
   ],
   "source": [
    "#eye(目) 5\n",
    "n = 138 #number of images\n",
    "index = 5\n",
    "size = 50\n",
    "eye = list()\n",
    "\n",
    "for i in range(0,n):\n",
    "    im = cv2.imread(str('eye/eye (' + str(i) +').jpg'), 0)\n",
    "    res = resize(im, size)\n",
    "    pixels = reduceNoise(res, size, index)\n",
    "    eye.append(pixels)\n",
    "\n",
    "print(len(eye))"
   ]
  },
  {
   "cell_type": "code",
   "execution_count": 11,
   "metadata": {},
   "outputs": [
    {
     "name": "stdout",
     "output_type": "stream",
     "text": [
      "832\n"
     ]
    }
   ],
   "source": [
    "#self(自) 6\n",
    "n = 832 #number of images\n",
    "index = 6\n",
    "size = 50\n",
    "self = list()\n",
    "\n",
    "for i in range(0,n):\n",
    "    im = cv2.imread(str('self/self (' + str(i) +').jpg'), 0)\n",
    "    res = resize(im, size)\n",
    "    pixels = reduceNoise(res, size, index)\n",
    "    self.append(pixels)\n",
    "\n",
    "print(len(self))"
   ]
  },
  {
   "cell_type": "code",
   "execution_count": 12,
   "metadata": {},
   "outputs": [
    {
     "name": "stdout",
     "output_type": "stream",
     "text": [
      "1924\n"
     ]
    }
   ],
   "source": [
    "#moon(月) 7\n",
    "n = 1924 #number of images\n",
    "index = 7\n",
    "size = 50\n",
    "moon = list()\n",
    "\n",
    "for i in range(0,n):\n",
    "    im = cv2.imread(str('moon/moon (' + str(i) +').jpg'), 0)\n",
    "    res = resize(im, size)\n",
    "    pixels = reduceNoise(res, size, index)\n",
    "    moon.append(pixels)\n",
    "\n",
    "print(len(moon))"
   ]
  },
  {
   "cell_type": "code",
   "execution_count": 13,
   "metadata": {},
   "outputs": [
    {
     "name": "stdout",
     "output_type": "stream",
     "text": [
      "7\n",
      "3\n",
      "3\n",
      "1\n",
      "7\n",
      "4\n",
      "3\n",
      "6\n",
      "7\n",
      "6\n"
     ]
    }
   ],
   "source": [
    "from random import shuffle\n",
    "data = mouth + sun + width + white + hundred + eye + self + moon\n",
    "len(data)\n",
    "\n",
    "shuffle(data)\n",
    "for i in range(10):\n",
    "    print(data[i][0])"
   ]
  },
  {
   "cell_type": "code",
   "execution_count": 14,
   "metadata": {},
   "outputs": [],
   "source": [
    "f = open('ML_final_project_data2.csv', 'w', encoding='utf-8', newline='')\n",
    "wr = csv.writer(f)\n",
    "\n",
    "for i in range(0, len(data)):\n",
    "    wr.writerow(data[i])\n",
    "    \n",
    "f.close()"
   ]
  },
  {
   "cell_type": "code",
   "execution_count": null,
   "metadata": {},
   "outputs": [],
   "source": []
  }
 ],
 "metadata": {
  "kernelspec": {
   "display_name": "Python 3",
   "language": "python",
   "name": "python3"
  },
  "language_info": {
   "codemirror_mode": {
    "name": "ipython",
    "version": 3
   },
   "file_extension": ".py",
   "mimetype": "text/x-python",
   "name": "python",
   "nbconvert_exporter": "python",
   "pygments_lexer": "ipython3",
   "version": "3.7.3"
  }
 },
 "nbformat": 4,
 "nbformat_minor": 2
}
