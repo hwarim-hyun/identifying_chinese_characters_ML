{
 "cells": [
  {
   "cell_type": "code",
   "execution_count": 1,
   "metadata": {},
   "outputs": [],
   "source": [
    "import pycasia"
   ]
  },
  {
   "cell_type": "code",
   "execution_count": 1,
   "metadata": {},
   "outputs": [],
   "source": [
    "import PIL\n",
    "from PIL import Image\n",
    "#import pylab as pl\n",
    "#import numpy as np (don't need this - yet)\n",
    "import csv\n",
    "\n",
    "def resize(picture, n): #receives image file as input, gives resized(n*n) image file \n",
    "    w, h = picture.size                    \n",
    "    if(w!=n or h!=n):\n",
    "        picture = picture.resize((n, n))\n",
    "    return picture\n",
    "\n",
    "def grayscale(picture):#recieves image file as input, gives grayscaled image file - noise canceled(by using max function)\n",
    "    gray=PIL.Image.new(picture.mode, picture.size)\n",
    "    w, h = picture.size\n",
    "    for i in range(0, w):\n",
    "           for j in range(0, h):\n",
    "                pixel=picture.getpixel((i,j))\n",
    "                avg=max(pixel)\n",
    "                gray.putpixel((i,j), (avg, avg, avg))\n",
    "    return gray\n",
    "\n",
    "def image_to_pixel(picture, index): #used with the assumption that the image has already been grayscaled \n",
    "    pixels = list()\n",
    "    pixels.append(index)\n",
    "    w, h = picture.size\n",
    "    for i in range(0,w): #row major!\n",
    "        for j in range(0,h):\n",
    "            pixel=picture.getpixel((i,j))\n",
    "            pixels.append(pixel[0])\n",
    "    return pixels"
   ]
  },
  {
   "cell_type": "code",
   "execution_count": 4,
   "metadata": {},
   "outputs": [
    {
     "name": "stdout",
     "output_type": "stream",
     "text": [
      "1915\n"
     ]
    }
   ],
   "source": [
    "n = 1915 #number of images\n",
    "index = 0\n",
    "size = 28 #modify image into n*n sized image\n",
    "sun = list()\n",
    "\n",
    "for i in range(0,n):\n",
    "    im = Image.open(str('sun22/sun2 (' + str(i) +').jpg'), 'r')\n",
    "    rgb_im = im.convert('RGB')\n",
    "    res = resize(rgb_im, size)\n",
    "    gray = grayscale(res)\n",
    "    sun.append(image_to_pixel(gray, index))\n",
    "\n",
    "print(len(sun))"
   ]
  },
  {
   "cell_type": "code",
   "execution_count": 5,
   "metadata": {},
   "outputs": [
    {
     "name": "stdout",
     "output_type": "stream",
     "text": [
      "1254\n"
     ]
    }
   ],
   "source": [
    "#白\n",
    "n = 1254 #number of images\n",
    "index = 1\n",
    "size = 28\n",
    "white = list()\n",
    "\n",
    "for i in range(0,n):\n",
    "    im = Image.open(str('white/white (' + str(i) +').jpg'), 'r')\n",
    "    rgb_im = im.convert('RGB')\n",
    "    res = resize(rgb_im, size)\n",
    "    gray = grayscale(res)\n",
    "    white.append(image_to_pixel(gray, index))\n",
    "\n",
    "print(len(white))"
   ]
  },
  {
   "cell_type": "code",
   "execution_count": 6,
   "metadata": {},
   "outputs": [
    {
     "name": "stdout",
     "output_type": "stream",
     "text": [
      "832\n"
     ]
    }
   ],
   "source": [
    "#self(自) 6\n",
    "n = 832 #number of images\n",
    "index = 2\n",
    "size = 28\n",
    "self = list()\n",
    "\n",
    "for i in range(0,n):\n",
    "    im = Image.open(str('self/self (' + str(i) +').jpg'), 'r')\n",
    "    rgb_im = im.convert('RGB')\n",
    "    res = resize(rgb_im, size)\n",
    "    gray = grayscale(res)\n",
    "    self.append(image_to_pixel(gray, index))\n",
    "\n",
    "print(len(self))"
   ]
  },
  {
   "cell_type": "code",
   "execution_count": 7,
   "metadata": {},
   "outputs": [
    {
     "name": "stdout",
     "output_type": "stream",
     "text": [
      "1924\n"
     ]
    }
   ],
   "source": [
    "#moon(月) 7\n",
    "n = 1924 #number of images\n",
    "index = 3\n",
    "size = 28\n",
    "moon = list()\n",
    "\n",
    "for i in range(0,n):\n",
    "    im = Image.open(str('moon/moon (' + str(i) +').jpg'), 'r')\n",
    "    rgb_im = im.convert('RGB')\n",
    "    res = resize(rgb_im, size)\n",
    "    gray = grayscale(res)\n",
    "    moon.append(image_to_pixel(gray, index))\n",
    "\n",
    "print(len(moon))"
   ]
  },
  {
   "cell_type": "code",
   "execution_count": 9,
   "metadata": {},
   "outputs": [
    {
     "name": "stdout",
     "output_type": "stream",
     "text": [
      "1\n",
      "3\n",
      "2\n",
      "3\n",
      "3\n",
      "2\n",
      "1\n",
      "0\n",
      "0\n",
      "2\n"
     ]
    }
   ],
   "source": [
    "from random import shuffle\n",
    "data = sun + white + self + moon\n",
    "len(data)\n",
    "\n",
    "shuffle(data)\n",
    "for i in range(10):\n",
    "    print(data[i][0])"
   ]
  },
  {
   "cell_type": "code",
   "execution_count": 10,
   "metadata": {},
   "outputs": [],
   "source": [
    "f = open('ML_final_project_data_modifiedver_1.csv', 'w', encoding='utf-8', newline='')\n",
    "wr = csv.writer(f)\n",
    "\n",
    "for i in range(0, len(data)):\n",
    "    wr.writerow(data[i])\n",
    "    \n",
    "f.close()"
   ]
  },
  {
   "cell_type": "code",
   "execution_count": null,
   "metadata": {},
   "outputs": [],
   "source": []
  }
 ],
 "metadata": {
  "kernelspec": {
   "display_name": "Python 3",
   "language": "python",
   "name": "python3"
  },
  "language_info": {
   "codemirror_mode": {
    "name": "ipython",
    "version": 3
   },
   "file_extension": ".py",
   "mimetype": "text/x-python",
   "name": "python",
   "nbconvert_exporter": "python",
   "pygments_lexer": "ipython3",
   "version": "3.7.3"
  }
 },
 "nbformat": 4,
 "nbformat_minor": 2
}
