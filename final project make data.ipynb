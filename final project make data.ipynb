{
 "cells": [
  {
   "cell_type": "code",
   "execution_count": 1,
   "metadata": {},
   "outputs": [],
   "source": [
    "import zipfile as zf\n",
    "files = zf.ZipFile(\"sun2.zip\", 'r')\n",
    "files.extractall('sun2')\n",
    "files.close()"
   ]
  },
  {
   "cell_type": "code",
   "execution_count": 2,
   "metadata": {},
   "outputs": [],
   "source": [
    "import PIL\n",
    "from PIL import Image\n",
    "#import pylab as pl\n",
    "#import numpy as np (don't need this - yet)\n",
    "import csv\n",
    "\n",
    "def resize(picture, n): #receives image file as input, gives resized(n*n) image file \n",
    "    w, h = picture.size                    \n",
    "    if(w!=n or h!=n):\n",
    "        picture = picture.resize((n, n))\n",
    "    return picture\n",
    "\n",
    "def grayscale(picture):#recieves image file as input, gives grayscaled image file - noise canceled(by using max function)\n",
    "    gray=PIL.Image.new(picture.mode, picture.size)\n",
    "    w, h = picture.size\n",
    "    for i in range(0, w):\n",
    "           for j in range(0, h):\n",
    "                pixel=picture.getpixel((i,j))\n",
    "                avg=max(pixel)\n",
    "                gray.putpixel((i,j), (avg, avg, avg))\n",
    "    return gray\n",
    "\n",
    "def image_to_pixel(picture, index): #used with the assumption that the image has already been grayscaled \n",
    "    pixels = list()\n",
    "    pixels.append(index)\n",
    "    w, h = picture.size\n",
    "    for i in range(0,w): #row major!\n",
    "        for j in range(0,h):\n",
    "            pixel=picture.getpixel((i,j))\n",
    "            pixels.append(pixel[0])\n",
    "    return pixels"
   ]
  },
  {
   "cell_type": "code",
   "execution_count": 3,
   "metadata": {},
   "outputs": [
    {
     "name": "stdout",
     "output_type": "stream",
     "text": [
      "373\n"
     ]
    }
   ],
   "source": [
    "#index: mouth(口) 0, sun(日) 1, says(曰) 2, white(白) 3, hundred(百) 4, eye(目) 5, self(自) 6, moon(月) 7\n",
    "#number of each index: 373, 2506. 227, 1254, 504, 138, 832, 1924\n",
    "\n",
    "#append mouth\n",
    "n = 373 #number of images\n",
    "index = 0\n",
    "size = 50 #modify image into n*n sized image\n",
    "mouth = list()\n",
    "\n",
    "for i in range(0,n):\n",
    "    im = Image.open(str('mouth/mouth (' + str(i) +').jpg'), 'r')\n",
    "    rgb_im = im.convert('RGB')\n",
    "    res = resize(rgb_im, size)\n",
    "    gray = grayscale(res)\n",
    "    mouth.append(image_to_pixel(gray, index))\n",
    "\n",
    "print(len(mouth))"
   ]
  },
  {
   "cell_type": "code",
   "execution_count": 4,
   "metadata": {},
   "outputs": [
    {
     "name": "stdout",
     "output_type": "stream",
     "text": [
      "2506\n"
     ]
    }
   ],
   "source": [
    "#日\n",
    "n = 2506 #number of images\n",
    "index = 1\n",
    "size = 50 #modify image into n*n sized image\n",
    "sun = list()\n",
    "\n",
    "for i in range(0,n):\n",
    "    im = Image.open(str('sun/day (' + str(i) +').jpg'), 'r')\n",
    "    rgb_im = im.convert('RGB')\n",
    "    res = resize(rgb_im, size)\n",
    "    gray = grayscale(res)\n",
    "    sun.append(image_to_pixel(gray, index))\n",
    "\n",
    "print(len(sun))"
   ]
  },
  {
   "cell_type": "code",
   "execution_count": 5,
   "metadata": {},
   "outputs": [
    {
     "name": "stdout",
     "output_type": "stream",
     "text": [
      "227\n"
     ]
    }
   ],
   "source": [
    "#曰\n",
    "n = 227 #number of images\n",
    "index = 2\n",
    "size = 50\n",
    "width = list()\n",
    "\n",
    "for i in range(0,n):\n",
    "    im = Image.open(str('width/width (' + str(i) +').jpg'), 'r')\n",
    "    rgb_im = im.convert('RGB')\n",
    "    res = resize(rgb_im, size)\n",
    "    gray = grayscale(res)\n",
    "    width.append(image_to_pixel(gray, index))\n",
    "\n",
    "print(len(width))"
   ]
  },
  {
   "cell_type": "code",
   "execution_count": 6,
   "metadata": {},
   "outputs": [
    {
     "name": "stdout",
     "output_type": "stream",
     "text": [
      "1254\n"
     ]
    }
   ],
   "source": [
    "#白\n",
    "n = 1254 #number of images\n",
    "index = 3\n",
    "size = 50\n",
    "white = list()\n",
    "\n",
    "for i in range(0,n):\n",
    "    im = Image.open(str('white/white (' + str(i) +').jpg'), 'r')\n",
    "    rgb_im = im.convert('RGB')\n",
    "    res = resize(rgb_im, size)\n",
    "    gray = grayscale(res)\n",
    "    white.append(image_to_pixel(gray, index))\n",
    "\n",
    "print(len(white))"
   ]
  },
  {
   "cell_type": "code",
   "execution_count": 7,
   "metadata": {},
   "outputs": [
    {
     "name": "stdout",
     "output_type": "stream",
     "text": [
      "504\n"
     ]
    }
   ],
   "source": [
    "#hundred(百) 4\n",
    "n = 504 #number of images\n",
    "index = 4\n",
    "size = 50\n",
    "hundred = list()\n",
    "\n",
    "for i in range(0,n):\n",
    "    im = Image.open(str('hundred/hund (' + str(i) +').jpg'), 'r')\n",
    "    rgb_im = im.convert('RGB')\n",
    "    res = resize(rgb_im, size)\n",
    "    gray = grayscale(res)\n",
    "    hundred.append(image_to_pixel(gray, index))\n",
    "\n",
    "print(len(hundred))"
   ]
  },
  {
   "cell_type": "code",
   "execution_count": 8,
   "metadata": {},
   "outputs": [
    {
     "name": "stdout",
     "output_type": "stream",
     "text": [
      "138\n"
     ]
    }
   ],
   "source": [
    "#eye(目) 5\n",
    "n = 138 #number of images\n",
    "index = 5\n",
    "size = 50\n",
    "eye = list()\n",
    "\n",
    "for i in range(0,n):\n",
    "    im = Image.open(str('eye/eye (' + str(i) +').jpg'), 'r')\n",
    "    rgb_im = im.convert('RGB')\n",
    "    res = resize(rgb_im, size)\n",
    "    gray = grayscale(res)\n",
    "    eye.append(image_to_pixel(gray, index))\n",
    "\n",
    "print(len(eye))"
   ]
  },
  {
   "cell_type": "code",
   "execution_count": 9,
   "metadata": {},
   "outputs": [
    {
     "name": "stdout",
     "output_type": "stream",
     "text": [
      "832\n"
     ]
    }
   ],
   "source": [
    "#self(自) 6\n",
    "n = 832 #number of images\n",
    "index = 6\n",
    "size = 50\n",
    "self = list()\n",
    "\n",
    "for i in range(0,n):\n",
    "    im = Image.open(str('self/self (' + str(i) +').jpg'), 'r')\n",
    "    rgb_im = im.convert('RGB')\n",
    "    res = resize(rgb_im, size)\n",
    "    gray = grayscale(res)\n",
    "    self.append(image_to_pixel(gray, index))\n",
    "\n",
    "print(len(self))"
   ]
  },
  {
   "cell_type": "code",
   "execution_count": 10,
   "metadata": {},
   "outputs": [
    {
     "name": "stdout",
     "output_type": "stream",
     "text": [
      "1924\n"
     ]
    }
   ],
   "source": [
    "#moon(月) 7\n",
    "n = 1924 #number of images\n",
    "index = 7\n",
    "size = 50\n",
    "moon = list()\n",
    "\n",
    "for i in range(0,n):\n",
    "    im = Image.open(str('moon/moon (' + str(i) +').jpg'), 'r')\n",
    "    rgb_im = im.convert('RGB')\n",
    "    res = resize(rgb_im, size)\n",
    "    gray = grayscale(res)\n",
    "    moon.append(image_to_pixel(gray, index))\n",
    "\n",
    "print(len(moon))"
   ]
  },
  {
   "cell_type": "code",
   "execution_count": 11,
   "metadata": {},
   "outputs": [
    {
     "name": "stdout",
     "output_type": "stream",
     "text": [
      "7\n",
      "1\n",
      "1\n",
      "3\n",
      "3\n",
      "7\n",
      "1\n",
      "3\n",
      "1\n",
      "1\n"
     ]
    }
   ],
   "source": [
    "from random import shuffle\n",
    "data = mouth + sun + width + white + hundred + eye + self + moon\n",
    "len(data)\n",
    "\n",
    "shuffle(data)\n",
    "for i in range(10):\n",
    "    print(data[i][0])"
   ]
  },
  {
   "cell_type": "code",
   "execution_count": 12,
   "metadata": {},
   "outputs": [],
   "source": [
    "f = open('ML_final_project_data.csv', 'w', encoding='utf-8', newline='')\n",
    "wr = csv.writer(f)\n",
    "\n",
    "for i in range(0, len(data)):\n",
    "    wr.writerow(data[i])\n",
    "    \n",
    "f.close()"
   ]
  }
 ],
 "metadata": {
  "kernelspec": {
   "display_name": "Python 3",
   "language": "python",
   "name": "python3"
  },
  "language_info": {
   "codemirror_mode": {
    "name": "ipython",
    "version": 3
   },
   "file_extension": ".py",
   "mimetype": "text/x-python",
   "name": "python",
   "nbconvert_exporter": "python",
   "pygments_lexer": "ipython3",
   "version": "3.7.3"
  }
 },
 "nbformat": 4,
 "nbformat_minor": 2
}
