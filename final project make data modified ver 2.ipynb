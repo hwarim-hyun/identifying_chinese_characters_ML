{
 "cells": [
  {
   "cell_type": "code",
   "execution_count": 1,
   "metadata": {},
   "outputs": [],
   "source": [
    "import csv\n",
    "import cv2\n",
    "import numpy as np\n",
    "from matplotlib import pyplot as plt\n",
    "\n",
    "def resize(picture, n):\n",
    "    w, h = picture.shape               \n",
    "    if(w!=n or h!=n):\n",
    "        picture = cv2.resize(picture, dsize = (n, n), interpolation=cv2.INTER_LINEAR)\n",
    "    return picture\n",
    "\n",
    "def reduceNoise(picture, n, index):\n",
    "    img = cv2.medianBlur(picture,5)\n",
    "    th3 = cv2.adaptiveThreshold(img,255,cv2.ADAPTIVE_THRESH_GAUSSIAN_C,cv2.THRESH_BINARY,11,2)\n",
    "    pixels = list()\n",
    "    pixels.append(index)\n",
    "    for i in range(n):\n",
    "        for j in range(n):\n",
    "            pixels.append(th3[i][j])\n",
    "            \n",
    "    return pixels"
   ]
  },
  {
   "cell_type": "code",
   "execution_count": 4,
   "metadata": {},
   "outputs": [
    {
     "name": "stdout",
     "output_type": "stream",
     "text": [
      "1915\n"
     ]
    }
   ],
   "source": [
    "#日\n",
    "n = 1915 #number of images\n",
    "index = 0\n",
    "size = 28 #modify image into n*n sized image\n",
    "sun = list()\n",
    "\n",
    "for i in range(0,n):\n",
    "    im = cv2.imread(str('sun22/sun2 (' + str(i) +').jpg'), 0)\n",
    "    res = resize(im, size)\n",
    "    pixels = reduceNoise(res, size, index)\n",
    "    sun.append(pixels)\n",
    "\n",
    "print(len(sun))"
   ]
  },
  {
   "cell_type": "code",
   "execution_count": 5,
   "metadata": {},
   "outputs": [
    {
     "name": "stdout",
     "output_type": "stream",
     "text": [
      "1254\n"
     ]
    }
   ],
   "source": [
    "#白\n",
    "n = 1254 #number of images\n",
    "index = 1\n",
    "size = 28\n",
    "white = list()\n",
    "\n",
    "for i in range(0,n):\n",
    "    im = cv2.imread(str('white/white (' + str(i) +').jpg'), 0)\n",
    "    res = resize(im, size)\n",
    "    pixels = reduceNoise(res, size, index)\n",
    "    white.append(pixels)\n",
    "\n",
    "print(len(white))"
   ]
  },
  {
   "cell_type": "code",
   "execution_count": 6,
   "metadata": {},
   "outputs": [
    {
     "name": "stdout",
     "output_type": "stream",
     "text": [
      "832\n"
     ]
    }
   ],
   "source": [
    "#self(自) 6\n",
    "n = 832 #number of images\n",
    "index = 2\n",
    "size = 28\n",
    "self = list()\n",
    "\n",
    "for i in range(0,n):\n",
    "    im = cv2.imread(str('self/self (' + str(i) +').jpg'), 0)\n",
    "    res = resize(im, size)\n",
    "    pixels = reduceNoise(res, size, index)\n",
    "    self.append(pixels)\n",
    "\n",
    "print(len(self))"
   ]
  },
  {
   "cell_type": "code",
   "execution_count": 7,
   "metadata": {},
   "outputs": [
    {
     "name": "stdout",
     "output_type": "stream",
     "text": [
      "1924\n"
     ]
    }
   ],
   "source": [
    "#moon(月) 7\n",
    "n = 1924 #number of images\n",
    "index = 3\n",
    "size = 28\n",
    "moon = list()\n",
    "\n",
    "for i in range(0,n):\n",
    "    im = cv2.imread(str('moon/moon (' + str(i) +').jpg'), 0)\n",
    "    res = resize(im, size)\n",
    "    pixels = reduceNoise(res, size, index)\n",
    "    moon.append(pixels)\n",
    "\n",
    "print(len(moon))"
   ]
  },
  {
   "cell_type": "code",
   "execution_count": 8,
   "metadata": {},
   "outputs": [
    {
     "name": "stdout",
     "output_type": "stream",
     "text": [
      "3\n",
      "3\n",
      "1\n",
      "0\n",
      "1\n",
      "0\n",
      "2\n",
      "2\n",
      "2\n",
      "2\n"
     ]
    }
   ],
   "source": [
    "from random import shuffle\n",
    "data = sun + white + self + moon\n",
    "len(data)\n",
    "\n",
    "shuffle(data)\n",
    "for i in range(10):\n",
    "    print(data[i][0])"
   ]
  },
  {
   "cell_type": "code",
   "execution_count": 9,
   "metadata": {},
   "outputs": [],
   "source": [
    "f = open('ML_final_project_data_modified_2.csv', 'w', encoding='utf-8', newline='')\n",
    "wr = csv.writer(f)\n",
    "\n",
    "for i in range(0, len(data)):\n",
    "    wr.writerow(data[i])\n",
    "    \n",
    "f.close()"
   ]
  },
  {
   "cell_type": "code",
   "execution_count": null,
   "metadata": {},
   "outputs": [],
   "source": []
  }
 ],
 "metadata": {
  "kernelspec": {
   "display_name": "Python 3",
   "language": "python",
   "name": "python3"
  },
  "language_info": {
   "codemirror_mode": {
    "name": "ipython",
    "version": 3
   },
   "file_extension": ".py",
   "mimetype": "text/x-python",
   "name": "python",
   "nbconvert_exporter": "python",
   "pygments_lexer": "ipython3",
   "version": "3.7.3"
  }
 },
 "nbformat": 4,
 "nbformat_minor": 2
}
